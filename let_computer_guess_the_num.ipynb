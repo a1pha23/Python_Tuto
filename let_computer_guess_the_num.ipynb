{
 "cells": [
  {
   "cell_type": "markdown",
   "id": "8187e5de-a7fb-4808-9467-242f2f68144f",
   "metadata": {},
   "source": [
    "# **Let PC Guess the Number ver1.0**\n",
    "\n",
    "## **Objective**\n",
    "Create a Python program where the computer tries to guess the user's number. The user provides a number, and the program gives feedback if the guess is **too high** or **too low**. The program adds a 1-second delay after each guess to simulate thinking time.\n",
    "\n",
    "---\n",
    "\n",
    "## **Problem Statement**\n",
    "Write a Python script that:  \n",
    "1. Takes a number from the user.  \n",
    "2. Has the computer guess the number.  \n",
    "3. If the guess is too low or too high, the program provides feedback to adjust the guess.\n",
    "4. When the computer guesses the correct number, the program congratulates the computer and exits the loop.  \n",
    "5. Includes a 1-second delay (`time.sleep(1)`) to simulate the computer \"thinking\" between guesses.\n",
    "\n",
    "---"
   ]
  },
  {
   "cell_type": "code",
   "execution_count": 1,
   "id": "c118420a-2026-4bec-b971-12933cd6405c",
   "metadata": {},
   "outputs": [
    {
     "name": "stdin",
     "output_type": "stream",
     "text": [
      "My number is:  1\n"
     ]
    },
    {
     "name": "stdout",
     "output_type": "stream",
     "text": [
      "PC choose: 8\n",
      "Too high. Try again!\n",
      "PC choose: 3\n",
      "Too high. Try again!\n",
      "PC choose: 5\n",
      "Too high. Try again!\n",
      "PC choose: 6\n",
      "Too high. Try again!\n",
      "PC choose: 2\n",
      "Too high. Try again!\n",
      "PC choose: 6\n",
      "Too high. Try again!\n",
      "PC choose: 8\n",
      "Too high. Try again!\n",
      "PC choose: 7\n",
      "Too high. Try again!\n",
      "PC choose: 7\n",
      "Too high. Try again!\n",
      "PC choose: 7\n",
      "Too high. Try again!\n",
      "PC choose: 1\n",
      "You are correct!\n"
     ]
    }
   ],
   "source": [
    "###let_PC_guess_the_num ver1.0\n",
    "\n",
    "#Step 1: Importing Required Libraries*\n",
    "import random\n",
    "import time\n",
    "\n",
    "#Step 2: Defining the Game Function\n",
    "def guess_the_num():\n",
    "\n",
    "#Step 3: User Input for the Number\n",
    "    my_num = int(input(\"My number is: \"))\n",
    "\n",
    "#Step 4: The Computer's Guessing Loop\n",
    "    while True:\n",
    "        time.sleep(1) #add 1 sec delay \n",
    "        predict_num= random.randrange(0,9)\n",
    "        \n",
    "#Step 5: Providing Feedback\n",
    "        #Too Low:\n",
    "        if  predict_num< my_num:\n",
    "            print(\"PC choose: \" + str(predict_num))\n",
    "            print(\"Too low. Try again!\")\n",
    "        #Too High:\n",
    "        elif predict_num > my_num:\n",
    "            print(\"PC choose: \" + str(predict_num))\n",
    "            print(\"Too high. Try again!\")\n",
    "        #Correct Guess:\n",
    "        else:\n",
    "            print(\"PC choose: \" + str(predict_num))\n",
    "            print(\"You are correct!\")\n",
    "            break\n",
    "\n",
    "#Step 6: Calling the Function\n",
    "guess_the_num()"
   ]
  },
  {
   "cell_type": "markdown",
   "id": "f99e938d-5e75-4114-b19d-406963674b88",
   "metadata": {},
   "source": [
    "<div style=\"background: linear-gradient(to right, cyan, magenta); height: 5px;\"></div>"
   ]
  },
  {
   "cell_type": "markdown",
   "id": "390da10b-5f16-4ceb-9832-e78684e7e4d0",
   "metadata": {},
   "source": [
    "# **Let PC Guess the Number ver2.0**\n",
    "\n",
    "## **Objective**\n",
    "Enhance the \"Let PC Guess the Number\" game by allowing the user to set custom **low** and **high** ranges for the computer to guess from. The computer will randomly guess numbers within the user-defined range until it guesses correctly. A 1-second delay is added to simulate \"thinking\" between guesses.\n",
    "\n",
    "---\n",
    "\n",
    "## **Problem Statement**\n",
    "Write a Python script that:  \n",
    "1. Takes custom **lower** and **higher** ranges from the user.\n",
    "2. Asks the user to input a number for the computer to guess.\n",
    "3. The computer will guess randomly from the range provided by the user.\n",
    "4. After each guess, if the computer's guess is too low or too high, the program will provide feedback.\n",
    "5. The game continues until the computer guesses the correct number.\n",
    "6. Includes a 1-second delay between guesses to simulate thinking.\n",
    "\n",
    "---"
   ]
  },
  {
   "cell_type": "code",
   "execution_count": 3,
   "id": "b06f921b-a15c-4bb8-bdc8-b4ae2696f7c2",
   "metadata": {},
   "outputs": [
    {
     "name": "stdin",
     "output_type": "stream",
     "text": [
      "lower range:  1\n",
      "higher range:  5\n",
      "My number is:  2\n"
     ]
    },
    {
     "name": "stdout",
     "output_type": "stream",
     "text": [
      "PC choose: 4\n",
      "Too high. Try again!\n",
      "PC choose: 2\n",
      "You are correct!\n"
     ]
    }
   ],
   "source": [
    "###let_PC_guess_the_num ver2.0\n",
    "\n",
    "#Step 1: Importing Required Libraries\n",
    "import random\n",
    "import time\n",
    "\n",
    "#Step 2: Defining the Game Function\n",
    "def guess_the_num():\n",
    "\n",
    "#Step 3: User Input for Range and Number\n",
    "    low = int(input(\"lower range: \"))\n",
    "    high = int(input(\"higher range: \"))\n",
    "    my_num = int(input(\"My number is: \"))\n",
    "\n",
    "#Step 4: The Computer's Guessing Loop\n",
    "    while True:\n",
    "        time.sleep(1) #add 1 sec delay\n",
    "        predict_num= random.randrange(low,high)\n",
    "\n",
    "#Step 5: Providing Feedback\n",
    "        #Too Low:\n",
    "        if  predict_num< my_num:\n",
    "            print(\"PC choose: \" + str(predict_num))\n",
    "            print(\"Too low. Try again!\")\n",
    "        #Too High:\n",
    "        elif predict_num > my_num:\n",
    "            print(\"PC choose: \" + str(predict_num))\n",
    "            print(\"Too high. Try again!\")\n",
    "        #Correct Guess:\n",
    "        else:\n",
    "            print(\"PC choose: \" + str(predict_num))\n",
    "            print(\"You are correct!\")\n",
    "            break\n",
    "\n",
    "#Step 6: Calling the Function\n",
    "guess_the_num()"
   ]
  },
  {
   "cell_type": "markdown",
   "id": "9a81b1ec-d0ef-4837-a1bd-62bf2483c785",
   "metadata": {},
   "source": [
    "<div style=\"background: linear-gradient(to right, cyan, magenta); height: 5px;\"></div>\n"
   ]
  }
 ],
 "metadata": {
  "kernelspec": {
   "display_name": "Python 3 (ipykernel)",
   "language": "python",
   "name": "python3"
  },
  "language_info": {
   "codemirror_mode": {
    "name": "ipython",
    "version": 3
   },
   "file_extension": ".py",
   "mimetype": "text/x-python",
   "name": "python",
   "nbconvert_exporter": "python",
   "pygments_lexer": "ipython3",
   "version": "3.13.0"
  }
 },
 "nbformat": 4,
 "nbformat_minor": 5
}
