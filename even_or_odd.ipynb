{
 "cells": [
  {
   "cell_type": "code",
   "execution_count": 4,
   "id": "669a75fb-15ba-4ad9-b86b-06cd9229afb8",
   "metadata": {},
   "outputs": [
    {
     "name": "stdin",
     "output_type": "stream",
     "text": [
      "Enter your number:  5\n"
     ]
    },
    {
     "data": {
      "text/plain": [
       "'It is an odd number'"
      ]
     },
     "execution_count": 4,
     "metadata": {},
     "output_type": "execute_result"
    }
   ],
   "source": [
    "###even_or_odd\n",
    "\n",
    "def even_odd():\n",
    "    num = int(input('Enter your number: '))\n",
    "    if num/2==0:\n",
    "        return 'It is an even number'\n",
    "    else:\n",
    "        return 'It is an odd number'\n",
    "\n",
    "even_odd()\n",
    "\n"
   ]
  },
  {
   "cell_type": "code",
   "execution_count": null,
   "id": "abb30e63-4719-411e-93bf-9efbc7b575f4",
   "metadata": {},
   "outputs": [],
   "source": []
  }
 ],
 "metadata": {
  "kernelspec": {
   "display_name": "Python 3 (ipykernel)",
   "language": "python",
   "name": "python3"
  },
  "language_info": {
   "codemirror_mode": {
    "name": "ipython",
    "version": 3
   },
   "file_extension": ".py",
   "mimetype": "text/x-python",
   "name": "python",
   "nbconvert_exporter": "python",
   "pygments_lexer": "ipython3",
   "version": "3.13.0"
  }
 },
 "nbformat": 4,
 "nbformat_minor": 5
}
