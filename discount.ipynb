{
 "cells": [
  {
   "cell_type": "code",
   "execution_count": 5,
   "id": "27cf3b3c-28da-489e-852a-4ec77295be47",
   "metadata": {},
   "outputs": [
    {
     "name": "stdin",
     "output_type": "stream",
     "text": [
      "Enter your total amount:  600\n"
     ]
    },
    {
     "name": "stdout",
     "output_type": "stream",
     "text": [
      "The total amount is :600.0\n"
     ]
    },
    {
     "name": "stdin",
     "output_type": "stream",
     "text": [
      "Are you a royalty member?, Enter 'y' or 'n'. y\n"
     ]
    },
    {
     "name": "stdout",
     "output_type": "stream",
     "text": [
      "The total discount for you is  150.0\n",
      "The total amount you have to pay is  450.0\n"
     ]
    }
   ],
   "source": [
    "\"\"\"A python program that calculates a discount based on the total shopping amount. \n",
    "The program will allow users to input the total amount spent and if applicable, indicate whether they are loyalty members. \n",
    "Depending on the total amount and membership status, the program will apply different discount rates.\n",
    "\n",
    "Requirements\n",
    "- If the total amount is greater than 500, apply a 20% discount.\n",
    "- If the total amount is between 300 and 500 (inclusive), apply a 10% discount.\n",
    "- If the total amount is less than 300, no discount is applied.\n",
    "- If the user is a loyalty customer, an additional 5% discount is applied, regardless of the total amount.\"\"\"\n",
    "\n",
    "###Method_1\n",
    "\n",
    "total_amount = float(input(\"Enter your total amount: \"))\n",
    "print(\"The total amount is :\" + str(total_amount))\n",
    "\n",
    "check_membership = input(\"Are you a royalty member?, Enter 'y' or 'n'.\").lower()\n",
    "\n",
    "if total_amount > 500:\n",
    "    discount= 0.2\n",
    "elif total_amount >= 300 and total_amount<=500:\n",
    "    discount= 0.1\n",
    "else:\n",
    "    discount = 0.0\n",
    "\n",
    "if check_membership == \"y\":\n",
    "    discount += 0.05\n",
    "else:\n",
    "    pass\n",
    "\n",
    "print (\"The total discount for you is \", float(total_amount*discount))\n",
    "print (\"The total amount you have to pay is \", float(total_amount -(total_amount*discount)))\n"
   ]
  },
  {
   "cell_type": "code",
   "execution_count": 4,
   "id": "52104176-9eda-4784-905b-5ef87f14aea0",
   "metadata": {},
   "outputs": [
    {
     "name": "stdin",
     "output_type": "stream",
     "text": [
      "Enter your total amount:  600\n"
     ]
    },
    {
     "name": "stdout",
     "output_type": "stream",
     "text": [
      "The total amount is :600.0\n"
     ]
    },
    {
     "name": "stdin",
     "output_type": "stream",
     "text": [
      "Are you a royalty member?, Enter 'y' or 'n'. y\n"
     ]
    },
    {
     "name": "stdout",
     "output_type": "stream",
     "text": [
      "The total discount for you is  150.0\n",
      "Final price to pay:  450.0\n"
     ]
    }
   ],
   "source": [
    "###Method_2\n",
    "\n",
    "def calculate_discount(total_amount, check_membership):\n",
    "\n",
    "    #set based discount according to total amount!\n",
    "    if total_amount > 500:\n",
    "        discount= 0.20\n",
    "    elif total_amount >= 300 and total_amount<=500:\n",
    "        discount= 0.10\n",
    "    else:\n",
    "        discount = 0.00\n",
    "\n",
    "    #adding extra 5% discount tf the customer is royalty member\n",
    "    if check_membership==\"y\":\n",
    "        discount += 0.05\n",
    "            \n",
    "\n",
    "    #calculate final_price and discount\n",
    "    discount_amount = total_amount * discount\n",
    "    final_price = total_amount - discount_amount\n",
    "\n",
    "    return discount_amount, final_price\n",
    "\n",
    "    \n",
    "#Get user input\n",
    "total_amount = float(input(\"Enter your total amount: \"))\n",
    "print(\"The total amount is :\" + str(total_amount))\n",
    "\n",
    "check_membership = input(\"Are you a royalty member?, Enter 'y' or 'n'.\").lower()\n",
    "discount_amount, final_price = calculate_discount(total_amount, check_membership)\n",
    "\n",
    "print(\"The total discount for you is \", discount_amount)\n",
    "print(\"Final price to pay: \", final_price)\n",
    "\n"
   ]
  },
  {
   "cell_type": "code",
   "execution_count": null,
   "id": "d2f26dc5-687d-4579-aac1-f04e529f0d58",
   "metadata": {},
   "outputs": [],
   "source": []
  }
 ],
 "metadata": {
  "kernelspec": {
   "display_name": "Python 3 (ipykernel)",
   "language": "python",
   "name": "python3"
  },
  "language_info": {
   "codemirror_mode": {
    "name": "ipython",
    "version": 3
   },
   "file_extension": ".py",
   "mimetype": "text/x-python",
   "name": "python",
   "nbconvert_exporter": "python",
   "pygments_lexer": "ipython3",
   "version": "3.12.4"
  }
 },
 "nbformat": 4,
 "nbformat_minor": 5
}
