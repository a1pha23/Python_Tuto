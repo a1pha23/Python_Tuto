{
 "cells": [
  {
   "cell_type": "markdown",
   "id": "6d3a6c7d-6115-45b3-b389-753ae23521d0",
   "metadata": {},
   "source": [
    "# **Discount Calculator Program**\n",
    "\n",
    "## **Objective**\n",
    "\n",
    "The program calculates the total discount a user can receive based on their total shopping amount and loyalty membership status. It applies tiered discounts depending on the total amount and adds an additional discount for loyalty members.\n",
    "\n",
    "---\n",
    "\n",
    "## **Requirements**\n",
    "\n",
    "## **Discount Tiers:**\n",
    "- **20% discount** if the total amount exceeds **$500**.\n",
    "- **10% discount** if the total amount is between **$300** and **$500** (inclusive).\n",
    "- **0% discount** if the total amount is less than **$300**.\n",
    "\n",
    "\n",
    "\n",
    "## **Loyalty Member Discount**\n",
    "- Loyalty members receive an **additional 5% discount**, regardless of the total amount.\n",
    "\n",
    "---\n",
    "\n",
    "## **Features**\n",
    "1. **Input**:  \n",
    "   - Total shopping amount.  \n",
    "   - Loyalty membership status (yes or no).\n",
    "\n",
    "2. **Output**:  \n",
    "   - Total discount amount.  \n",
    "   - Final amount to be paid after applying the discount.  \n",
    "\n",
    "3. **Discount Logic**:\n",
    "   - Tiered discount system based on the total amount.\n",
    "   - An additional discount for loyalty members.\n",
    "\n",
    "---\n"
   ]
  },
  {
   "cell_type": "code",
   "execution_count": null,
   "id": "27cf3b3c-28da-489e-852a-4ec77295be47",
   "metadata": {},
   "outputs": [
    {
     "name": "stdin",
     "output_type": "stream",
     "text": [
      "Enter your total amount:  100\n"
     ]
    },
    {
     "name": "stdout",
     "output_type": "stream",
     "text": [
      "The total amount is :100.0\n"
     ]
    }
   ],
   "source": [
    "###Method_1\n",
    "\n",
    "total_amount = float(input(\"Enter your total amount: \"))\n",
    "print(\"The total amount is :\" + str(total_amount))\n",
    "\n",
    "check_membership = input(\"Are you a royalty member?, Enter 'y' or 'n'.\").lower()\n",
    "\n",
    "if total_amount > 500:\n",
    "    discount= 0.2\n",
    "elif total_amount >= 300 and total_amount<=500:\n",
    "    discount= 0.1\n",
    "else:\n",
    "    discount = 0.0\n",
    "\n",
    "if check_membership == \"y\":\n",
    "    discount += 0.05\n",
    "else:\n",
    "    pass\n",
    "\n",
    "print (\"The total discount for you is \", float(total_amount*discount))\n",
    "print (\"The total amount you have to pay is \", float(total_amount -(total_amount*discount)))\n"
   ]
  },
  {
   "cell_type": "code",
   "execution_count": 4,
   "id": "52104176-9eda-4784-905b-5ef87f14aea0",
   "metadata": {},
   "outputs": [
    {
     "name": "stdin",
     "output_type": "stream",
     "text": [
      "Enter your total amount:  600\n"
     ]
    },
    {
     "name": "stdout",
     "output_type": "stream",
     "text": [
      "The total amount is :600.0\n"
     ]
    },
    {
     "name": "stdin",
     "output_type": "stream",
     "text": [
      "Are you a royalty member?, Enter 'y' or 'n'. y\n"
     ]
    },
    {
     "name": "stdout",
     "output_type": "stream",
     "text": [
      "The total discount for you is  150.0\n",
      "Final price to pay:  450.0\n"
     ]
    }
   ],
   "source": [
    "###Method_2\n",
    "\n",
    "def calculate_discount(total_amount, check_membership):\n",
    "\n",
    "    #set based discount according to total amount!\n",
    "    if total_amount > 500:\n",
    "        discount= 0.20\n",
    "    elif total_amount >= 300 and total_amount<=500:\n",
    "        discount= 0.10\n",
    "    else:\n",
    "        discount = 0.00\n",
    "\n",
    "    #adding extra 5% discount tf the customer is royalty member\n",
    "    if check_membership==\"y\":\n",
    "        discount += 0.05\n",
    "            \n",
    "\n",
    "    #calculate final_price and discount\n",
    "    discount_amount = total_amount * discount\n",
    "    final_price = total_amount - discount_amount\n",
    "\n",
    "    return discount_amount, final_price\n",
    "\n",
    "    \n",
    "#Get user input\n",
    "total_amount = float(input(\"Enter your total amount: \"))\n",
    "print(\"The total amount is :\" + str(total_amount))\n",
    "\n",
    "check_membership = input(\"Are you a royalty member?, Enter 'y' or 'n'.\").lower()\n",
    "discount_amount, final_price = calculate_discount(total_amount, check_membership)\n",
    "\n",
    "print(\"The total discount for you is \", discount_amount)\n",
    "print(\"Final price to pay: \", final_price)\n",
    "\n"
   ]
  },
  {
   "cell_type": "code",
   "execution_count": null,
   "id": "d2f26dc5-687d-4579-aac1-f04e529f0d58",
   "metadata": {},
   "outputs": [],
   "source": []
  }
 ],
 "metadata": {
  "kernelspec": {
   "display_name": "Python 3 (ipykernel)",
   "language": "python",
   "name": "python3"
  },
  "language_info": {
   "codemirror_mode": {
    "name": "ipython",
    "version": 3
   },
   "file_extension": ".py",
   "mimetype": "text/x-python",
   "name": "python",
   "nbconvert_exporter": "python",
   "pygments_lexer": "ipython3",
   "version": "3.13.0"
  }
 },
 "nbformat": 4,
 "nbformat_minor": 5
}
