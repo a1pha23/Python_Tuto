{
 "cells": [
  {
   "cell_type": "markdown",
   "id": "5fedfe72-e659-4513-b731-0b5032181355",
   "metadata": {},
   "source": [
    "# **Math Quiz Game**\n",
    "\n",
    "## **Objective**\n",
    "Create a simple math quiz game where the program generates a random arithmetic expression (addition, subtraction, multiplication, or division) and asks the user to solve it. The user is prompted to input their answer, and the game continues until they provide the correct answer.\n",
    "\n",
    "---\n",
    "\n",
    "## **Problem Statement**\n",
    "Write a Python program that:\n",
    "1. Randomly selects two numbers and an arithmetic operator (addition, subtraction, multiplication, or division).\n",
    "2. Presents the math expression to the user.\n",
    "3. Continuously asks the user for their answer until it matches the correct result.\n",
    "4. Informs the user whether they are correct or need to try again.\n",
    "\n",
    "---"
   ]
  },
  {
   "cell_type": "code",
   "execution_count": null,
   "id": "316bc3ba-e17a-4058-a142-1aea43308bda",
   "metadata": {},
   "outputs": [
    {
     "name": "stdout",
     "output_type": "stream",
     "text": [
      "29-44\n"
     ]
    }
   ],
   "source": [
    "#Step 1: Importing Required Libraries\n",
    "import random\n",
    "\n",
    "#Step 2: Generate Random Numbers and Operator\n",
    "num1 = random.randrange(1, 100)\n",
    "num2 = random.randrange(1, 100)\n",
    "operator = random.choice(['+', '-', '*', '/'])\n",
    "\n",
    "#Step 3: Display the Math Expression\n",
    "print(str(num1) + operator +str(num2))\n",
    "\n",
    "#Step 4: Calculate the Correct Answer\n",
    "if operator == '+':\n",
    "    correct_ans = num1+num2\n",
    "elif operator == '-':\n",
    "    correct_ans = num1-num2\n",
    "elif operator == '*':\n",
    "    correct_ans = num1*num2\n",
    "elif operator == '/':\n",
    "    correct_ans = num1/num2\n",
    "\n",
    "#Step 5: User Input and Checking the Answer\n",
    "while True:\n",
    "    user = float(input(\"Enter your number: \"))\n",
    "    \n",
    "    if user == correct_ans:\n",
    "        print('You are correct!')\n",
    "        break\n",
    "    else:\n",
    "        print('Try again!')"
   ]
  }
 ],
 "metadata": {
  "kernelspec": {
   "display_name": "Python 3 (ipykernel)",
   "language": "python",
   "name": "python3"
  },
  "language_info": {
   "codemirror_mode": {
    "name": "ipython",
    "version": 3
   },
   "file_extension": ".py",
   "mimetype": "text/x-python",
   "name": "python",
   "nbconvert_exporter": "python",
   "pygments_lexer": "ipython3",
   "version": "3.13.0"
  }
 },
 "nbformat": 4,
 "nbformat_minor": 5
}
