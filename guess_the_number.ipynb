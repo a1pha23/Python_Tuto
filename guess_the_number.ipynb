{
 "cells": [
  {
   "cell_type": "markdown",
   "id": "b4911ff1-932a-42ed-99d6-8f169b63053d",
   "metadata": {},
   "source": [
    "# **Guess the Number ver1.0**\n",
    "\n",
    "## **Objective**\n",
    "Create a simple Python program where the user guesses a randomly generated number. The program provides feedback on whether the user's guess is correct or wrong.\n",
    "\n",
    "---\n",
    "\n",
    "## **Problem Statement**\n",
    "Write a Python script that:  \n",
    "1. Prompts the user to guess a number between 0 and 9.  \n",
    "2. Generates a random number within the same range (0–9).  \n",
    "3. Compares the user's guess with the generated number.  \n",
    "4. Displays a message indicating whether the guess is **correct** or **wrong**, along with the generated number.  \n",
    "\n",
    "---"
   ]
  },
  {
   "cell_type": "markdown",
   "id": "ee8a2cfe-add1-4c33-a1c2-7d80d1cadd0c",
   "metadata": {},
   "source": [
    "## Step 1: Importing Required Libraries\n",
    "import random\n",
    "\n",
    "#Step 2: Taking User Input\n",
    "my_num = int(input(\"Guess your number: \"))\n",
    "\n",
    "#Step 3: Generating a Random Number\n",
    "the_num = random.randrange(0,9)\n",
    "\n",
    "#Step 4: Comparing Numbers\n",
    "if my_num == the_num :\n",
    "    print(\"The number is: \" + str(the_num))\n",
    "    print(\"You are correct!\")\n",
    "\n",
    "else:\n",
    "    print(\"The number is: \" + str(the_num))\n",
    "    print(\"You are wrong!\")"
   ]
  },
  {
   "cell_type": "markdown",
   "id": "11379076-bcd1-48fc-9150-4632a7482d0d",
   "metadata": {},
   "source": [
    "<div style=\"background: linear-gradient(to right, cyan, magenta); height: 5px;\"></div>"
   ]
  },
  {
   "cell_type": "markdown",
   "id": "7e14eed6-1261-42b9-a38b-75253bfcac8b",
   "metadata": {},
   "source": [
    "# **Guess the Number ver1.1**\n",
    "\n",
    "## **Objective**\n",
    "Enhance the basic \"Guess the Number\" game by adding hints to help the user guess correctly. If the guess is wrong, the program will inform the user whether their guess is **too high** or **too low**, allowing for multiple attempts.\n",
    "\n",
    "---\n",
    "\n",
    "## **Problem Statement**\n",
    "Write a Python script that:  \n",
    "1. Generates a random number between 0 and 9.  \n",
    "2. Allows the user to repeatedly guess the number until they are correct.  \n",
    "3. Provides feedback after each guess:\n",
    "   - If the guess is **too low**, prompt the user to guess a higher number.  \n",
    "   - If the guess is **too high**, prompt the user to guess a lower number.  \n",
    "4. Congratulates the user when the guess is correct.\n",
    "\n",
    "---"
   ]
  },
  {
   "cell_type": "code",
   "execution_count": 2,
   "id": "78e0540a-9bf2-4622-a62b-f20ad472cadd",
   "metadata": {},
   "outputs": [
    {
     "name": "stdin",
     "output_type": "stream",
     "text": [
      "Guess your number:  1\n"
     ]
    },
    {
     "name": "stdout",
     "output_type": "stream",
     "text": [
      "Too low. Try again!\n"
     ]
    },
    {
     "name": "stdin",
     "output_type": "stream",
     "text": [
      "Guess your number:  5\n"
     ]
    },
    {
     "name": "stdout",
     "output_type": "stream",
     "text": [
      "Too low. Try again!\n"
     ]
    },
    {
     "name": "stdin",
     "output_type": "stream",
     "text": [
      "Guess your number:  7\n"
     ]
    },
    {
     "name": "stdout",
     "output_type": "stream",
     "text": [
      "Too high. Try again!\n"
     ]
    },
    {
     "name": "stdin",
     "output_type": "stream",
     "text": [
      "Guess your number:  6\n"
     ]
    },
    {
     "name": "stdout",
     "output_type": "stream",
     "text": [
      "You are correct!\n"
     ]
    }
   ],
   "source": [
    "###Guess the number ver1.1\n",
    "###This program has added a new feature like \"If the guessed number is wrong, it will tell whether the guessed one is high or low\"\n",
    "\n",
    "#Step 1: Importing the `random` Module\n",
    "import random\n",
    "\n",
    "#Step 2: Generating the Random Number\n",
    "the_num = random.randrange(0,9)\n",
    "\n",
    "#Step 3: Taking User Input in a Loop\n",
    "while True:\n",
    "    my_num = int(input(\"Guess your number: \"))\n",
    "\n",
    "#Step 4: Providing Hints\n",
    "    #Too Low:\n",
    "    if my_num < the_num:\n",
    "        print(\"Too low. Try again!\")\n",
    "    #Too High:\n",
    "    elif my_num > the_num :\n",
    "        print(\"Too high. Try again!\")\n",
    "\n",
    "#Step 5: Correct Guess\n",
    "    else:\n",
    "        print(\"You are correct!\")\n",
    "        break"
   ]
  },
  {
   "cell_type": "markdown",
   "id": "aea58981-22ec-4e7c-a0d9-2e3d0426b281",
   "metadata": {},
   "source": [
    "<div style=\"background: linear-gradient(to right, cyan, magenta); height: 5px;\"></div>"
   ]
  },
  {
   "cell_type": "markdown",
   "id": "6db27dd4-2b31-409d-b04a-77882fce4c95",
   "metadata": {},
   "source": [
    "# **Guess the Number ver2.0**\n",
    "\n",
    "## **Objective**\n",
    "Reorganize the \"Guess the Number\" game using a function-based approach for better structure and reusability. The program continues to provide feedback if the guess is **too high** or **too low** and congratulates the user when they guess correctly.\n",
    "\n",
    "---\n",
    "\n",
    "## **Problem Statement**\n",
    "Write a Python script that:  \n",
    "1. Uses a **function** to encapsulate the game's logic.  \n",
    "2. Generates a random number between 0 and 9.  \n",
    "3. Prompts the user to guess the number in a loop until they are correct.  \n",
    "4. Provides feedback after each guess:\n",
    "   - If the guess is **too low**, suggest a higher number.  \n",
    "   - If the guess is **too high**, suggest a lower number.  \n",
    "5. Exits the loop and displays a congratulatory message when the guess is correct.\n",
    "\n",
    "---"
   ]
  },
  {
   "cell_type": "code",
   "execution_count": 1,
   "id": "6fc39a54-cf8d-4e23-a71d-8ec4c11bef44",
   "metadata": {},
   "outputs": [
    {
     "name": "stdin",
     "output_type": "stream",
     "text": [
      "Guess your number:  2\n"
     ]
    },
    {
     "name": "stdout",
     "output_type": "stream",
     "text": [
      "Too low. Try again!\n"
     ]
    },
    {
     "name": "stdin",
     "output_type": "stream",
     "text": [
      "Guess your number:  3\n"
     ]
    },
    {
     "name": "stdout",
     "output_type": "stream",
     "text": [
      "Too low. Try again!\n"
     ]
    },
    {
     "name": "stdin",
     "output_type": "stream",
     "text": [
      "Guess your number:  4\n"
     ]
    },
    {
     "name": "stdout",
     "output_type": "stream",
     "text": [
      "Too low. Try again!\n"
     ]
    },
    {
     "name": "stdin",
     "output_type": "stream",
     "text": [
      "Guess your number:  5\n"
     ]
    },
    {
     "name": "stdout",
     "output_type": "stream",
     "text": [
      "Too low. Try again!\n"
     ]
    },
    {
     "name": "stdin",
     "output_type": "stream",
     "text": [
      "Guess your number:  6\n"
     ]
    },
    {
     "name": "stdout",
     "output_type": "stream",
     "text": [
      "Too low. Try again!\n"
     ]
    },
    {
     "name": "stdin",
     "output_type": "stream",
     "text": [
      "Guess your number:  7\n"
     ]
    },
    {
     "name": "stdout",
     "output_type": "stream",
     "text": [
      "Too low. Try again!\n"
     ]
    },
    {
     "name": "stdin",
     "output_type": "stream",
     "text": [
      "Guess your number:  9\n"
     ]
    },
    {
     "name": "stdout",
     "output_type": "stream",
     "text": [
      "Too high. Try again!\n"
     ]
    },
    {
     "name": "stdin",
     "output_type": "stream",
     "text": [
      "Guess your number:  8\n"
     ]
    },
    {
     "name": "stdout",
     "output_type": "stream",
     "text": [
      "You are correct!\n"
     ]
    }
   ],
   "source": [
    "###Guess the number ver2.0\n",
    "###This time I will use the \"function method\".\n",
    "\n",
    "#Step 1: Importing Required Libraries\n",
    "import random\n",
    "\n",
    "#Step 2: Generating the Random Number\n",
    "the_num = random.randrange(0,9)\n",
    "\n",
    "#Step 3: Defining the Game Function\n",
    "def guess_the_num():\n",
    "\n",
    "#Step 4: Taking User Input in a Loop\n",
    "    while True:\n",
    "        my_num = int(input(\"Guess your number: \"))\n",
    "\n",
    "#Step 5: Providing Hints \n",
    "        #Too Low:\n",
    "        if my_num < the_num:\n",
    "            print(\"Too low. Try again!\")\n",
    "        #Too High:\n",
    "        elif my_num > the_num :\n",
    "            print(\"Too high. Try again!\")\n",
    "        #Correct Guess:\n",
    "        else:\n",
    "            print(\"You are correct!\")\n",
    "            break\n",
    "            \n",
    "#Step 6: Calling the Function\n",
    "guess_the_num()\n"
   ]
  },
  {
   "cell_type": "markdown",
   "id": "85385217-ea45-4321-9a8f-8b188575d3a3",
   "metadata": {},
   "source": [
    "<div style=\"background: linear-gradient(to right, cyan, magenta); height: 5px;\"></div>\n"
   ]
  }
 ],
 "metadata": {
  "kernelspec": {
   "display_name": "Python 3 (ipykernel)",
   "language": "python",
   "name": "python3"
  },
  "language_info": {
   "codemirror_mode": {
    "name": "ipython",
    "version": 3
   },
   "file_extension": ".py",
   "mimetype": "text/x-python",
   "name": "python",
   "nbconvert_exporter": "python",
   "pygments_lexer": "ipython3",
   "version": "3.13.0"
  }
 },
 "nbformat": 4,
 "nbformat_minor": 5
}
