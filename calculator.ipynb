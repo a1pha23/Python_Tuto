{
 "cells": [
  {
   "cell_type": "markdown",
   "id": "48c55748-779d-4c76-ba6d-ba874ab8cc19",
   "metadata": {},
   "source": [
    "# Simple Calculator Program\n",
    "\n",
    "## **Objective**\n",
    "\n",
    "Create a Python program that acts as a simple calculator to perform basic arithmetic operations such as addition, subtraction, multiplication, and division. The program should:\n",
    "\n",
    "1. Prompt the user to choose an arithmetic operation by entering a corresponding number.\n",
    "2. Accept two integer inputs from the user.\n",
    "3. Perform the chosen arithmetic operation.\n",
    "4. Display the result of the calculation.\n",
    "5. Gracefully handle invalid operator inputs.\n",
    "\n",
    "---\n",
    "\n",
    "## **Features**\n",
    "\n",
    "- **Basic Operations**:\n",
    "  - Addition (`+`)\n",
    "  - Subtraction (`-`)\n",
    "  - Multiplication (`*`)\n",
    "  - Division (`/`)\n",
    "  \n",
    "- **Error Handling**:\n",
    "  - Invalid operator input\n",
    "  - Non-integer input\n",
    "  - Division by zero\n",
    "\n",
    "---"
   ]
  },
  {
   "cell_type": "markdown",
   "id": "69e3acd6-d175-4bcf-b4e9-cd56699efa01",
   "metadata": {},
   "source": [
    "## **Implementation**\n",
    "--------"
   ]
  },
  {
   "cell_type": "code",
   "execution_count": 2,
   "id": "cc84014f-da93-4237-a968-e2cdfff627e9",
   "metadata": {},
   "outputs": [
    {
     "name": "stdout",
     "output_type": "stream",
     "text": [
      "Simple Calculator\n",
      "Choose your operator\n",
      "1. Addition '+'\n",
      "2. Subtraction '-'\n",
      "3. Multiplication '*'\n",
      "4. Division '/'\n"
     ]
    },
    {
     "name": "stdin",
     "output_type": "stream",
     "text": [
      "Choose one: 1, 2, 3, 4:  1\n",
      "Number 1:  1\n",
      "Number 2:  2\n"
     ]
    },
    {
     "name": "stdout",
     "output_type": "stream",
     "text": [
      "3\n"
     ]
    }
   ],
   "source": [
    "# Calculator\n",
    "def calc():\n",
    "    print (\"Simple Calculator\")\n",
    "    print (\"Choose your operator\")\n",
    "    print(\"1. Addition '+'\")\n",
    "    print(\"2. Subtraction '-'\")\n",
    "    print(\"3. Multiplication '*'\")\n",
    "    print(\"4. Division '/'\")\n",
    "    \n",
    "    while True:\n",
    "        operator = int(input(\"Choose one: 1, 2, 3, 4: \"))\n",
    "    \n",
    "        if operator in [1, 2, 3, 4]:\n",
    "            num_1 = int(input(\"Number 1: \"))\n",
    "            num_2 = int(input(\"Number 2: \"))\n",
    "\n",
    "            print(op(num_1, num_2, operator))\n",
    "            break\n",
    "    \n",
    "        else:\n",
    "            print(\"Invalid input. Please select a valid operation.\")\n",
    "def op(n1, n2, O):\n",
    "    if (O == 1):\n",
    "        return (n1+n2)\n",
    "    elif (O == 2):\n",
    "        return (n1-n2)\n",
    "    elif (O == 3):\n",
    "        return (n1*n2)\n",
    "    elif (O == 4):\n",
    "        return (n1/n2) \n",
    "calc()"
   ]
  },
  {
   "cell_type": "code",
   "execution_count": null,
   "id": "b05780a1-d7af-4edf-8562-2c4f8f781d3f",
   "metadata": {},
   "outputs": [],
   "source": []
  }
 ],
 "metadata": {
  "kernelspec": {
   "display_name": "Python 3 (ipykernel)",
   "language": "python",
   "name": "python3"
  },
  "language_info": {
   "codemirror_mode": {
    "name": "ipython",
    "version": 3
   },
   "file_extension": ".py",
   "mimetype": "text/x-python",
   "name": "python",
   "nbconvert_exporter": "python",
   "pygments_lexer": "ipython3",
   "version": "3.13.0"
  }
 },
 "nbformat": 4,
 "nbformat_minor": 5
}
